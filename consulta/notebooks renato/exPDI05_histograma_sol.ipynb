{
 "cells": [
  {
   "cell_type": "markdown",
   "id": "507938ae-19b4-4f41-abf1-11d7492cc6c5",
   "metadata": {},
   "source": [
    "# <center>Centro Universitário Facens<br/></center>\n",
    "<br/>\n",
    "<font size=\"4\"><center><b>Disciplina: Processamento de imagens</b></center></font>\n",
    "  \n",
    "<font size=\"3\"><center>Prof. Renato Moraes Silva</center></font>\n",
    "<br/>\n",
    "<br/>"
   ]
  },
  {
   "cell_type": "markdown",
   "id": "725aa4a7-347b-4f6f-a7b6-13f649cd8e38",
   "metadata": {},
   "source": [
    "# Histograma\n",
    "\n",
    "Neste notebook, iremos aprender como calcular o histograma da imagem.\n",
    "\n",
    "Primeiro, iremos importar as principais bibliotecas."
   ]
  },
  {
   "cell_type": "code",
   "execution_count": null,
   "id": "a49d144e-ea12-4b17-bb3a-f570b8b8224a",
   "metadata": {},
   "outputs": [],
   "source": [
    "import numpy as np\n",
    "import cv2  \n",
    "import os\n",
    "import urllib.request\n",
    "import matplotlib.pyplot as plt"
   ]
  },
  {
   "cell_type": "markdown",
   "id": "abb7f296-6a0e-4d9a-9359-9ce78e61b4b5",
   "metadata": {},
   "source": [
    "## Histograma de uma imagem em tons de cinza\n",
    "\n",
    "Iremos fazer o download de uma imagem."
   ]
  },
  {
   "cell_type": "code",
   "execution_count": null,
   "id": "f8902c15-7c12-472a-9ff1-dafa9b285924",
   "metadata": {},
   "outputs": [],
   "source": [
    "pathFolder = 'figs/'\n",
    "\n",
    "# verifica que a pasta existe\n",
    "if not os.path.exists(pathFolder):\n",
    "    # cria a pasta\n",
    "    os.makedirs(pathFolder)\n",
    "\n",
    "url = 'https://i.pinimg.com/originals/58/e8/57/58e8573cd99fa533af68d13e0752fcb8.jpg'\n",
    "\n",
    "urllib.request.urlretrieve(url, pathFolder + \"lowContrast.jpg\")  "
   ]
  },
  {
   "cell_type": "code",
   "execution_count": null,
   "id": "ce2f977d-dbe0-4fea-baf7-9eff9415f295",
   "metadata": {},
   "outputs": [],
   "source": [
    "# abre a imagem em tons de cinza\n",
    "imagem = cv2.imread(\"figs/lowContrast.jpg\", 0)\n",
    "\n",
    "# plota a imagem\n",
    "plt.imshow(imagem, \"gray\")\n",
    "plt.title('Imagem de baixo contraste')\n",
    "plt.show()"
   ]
  },
  {
   "cell_type": "markdown",
   "id": "f29675a4-5902-49f7-ad86-45258000fabb",
   "metadata": {},
   "source": [
    "Iremos calcular o histograma da imagem e plotar seu gráfico."
   ]
  },
  {
   "cell_type": "code",
   "execution_count": null,
   "id": "1ae7082e-3134-4b9a-a559-1f1c42ee3b5d",
   "metadata": {},
   "outputs": [],
   "source": [
    "################# COMPLETE O CÓDIGO AQUI  #################\n",
    "# Use a função calcHist da OpenCV para calcular o histograma\n",
    "# Argumentos: imagem, indice da cor, mascara, qtd de barras, \n",
    "# intervalo de possiveis valores dos pixels\n",
    "\n",
    "# calcula o histograma\n",
    "# argumentos: imagem, indice da cor, mascara, qtd de barras, intervalo de possiveis valores dos pixels \n",
    "histograma = cv2.calcHist([imagem], [0], None, [256], [0,256])\n",
    "\n",
    "##########################################################\n",
    "\n",
    "# plota o histograma\n",
    "plt.plot(histograma)\n",
    "plt.title('Histograma da imagem')\n",
    "plt.show()"
   ]
  },
  {
   "cell_type": "markdown",
   "id": "67ce86c7-a0c2-4b27-90c2-c848e32d3fa8",
   "metadata": {},
   "source": [
    "Pelo gráfico mostrado acima, é possível observar que a maioria dos pixels contém um valor de tom de cinza entre 180 e 220, o que indica que a imagem possui baixo contraste. \n",
    "\n",
    "Outra forma de chegar nessa mesma conclusão, sem ter que olhar para o gráfico do histograma, é calculando algumas medidas estátistícas como máximo, mínimo, média, desvio padrão, mediana e a amplitude interquartil (IQR) do histograma. Abaixo, iremos criar uma função para calcular e mostrar essas estatisticas."
   ]
  },
  {
   "cell_type": "code",
   "execution_count": null,
   "id": "613c6635-fdc1-4f2c-872b-73d2167918f2",
   "metadata": {},
   "outputs": [],
   "source": [
    "def estatisticas(histograma):\n",
    "    \"\"\"\n",
    "    Calcula e imprime as estatísticas do histograma\n",
    "    \"\"\"\n",
    "    \n",
    "    ################# COMPLETE O CÓDIGO AQUI  #################\n",
    "    # Use as funções max, min, mean, std, median, percentile (75 e 25)  \n",
    "\n",
    "    # valor máximo do histograma. Ou seja, \n",
    "    # o máximo de pixels com um mesmo tom de cinza\n",
    "    maximo = np.max(histograma)\n",
    "\n",
    "    # valor mínimo do histograma. Ou seja, \n",
    "    # o mínimo de pixels com um mesmo tom de cinza\n",
    "    minimo = np.min(histograma)\n",
    "\n",
    "    # média do histograma\n",
    "    media = np.mean(histograma)\n",
    "\n",
    "    # desvio padrão do histograma\n",
    "    std = np.std(histograma)\n",
    "\n",
    "    # mediana do histograma\n",
    "    mediana = np.median(histograma)\n",
    "\n",
    "    # quartis e IQR\n",
    "    quartil1 = np.percentile(histograma,25)\n",
    "    quartil2 = np.percentile(histograma,75)\n",
    "    iqr = quartil2 - quartil1\n",
    "    \n",
    "    ###########################################################\n",
    "\n",
    "    print('Máximo: %1.3f' %(maximo))\n",
    "    print('Mínimo: %1.3f' %(minimo))\n",
    "\n",
    "    print('\\nMédia: %1.3f' %(media))\n",
    "    print('Desvio padrão: %1.3f' %(std))\n",
    "\n",
    "    print('\\nMediana: %1.3f' %(mediana))\n",
    "    print('IQR: %1.3f' %(iqr))\n",
    "    \n",
    "# chama a função para imprimir as estatisticas do histograma\n",
    "estatisticas(histograma)"
   ]
  },
  {
   "cell_type": "markdown",
   "id": "643416c1-dd4f-460a-82c3-e8d8c8b02abc",
   "metadata": {},
   "source": [
    "As estatísticas do histograma calculadas acima indicam que a imagem possui baixo contraste. Por exemplo, a quantidade máxima de pixels que possui o mesmo tom de cinza é bem maior que a média e a mediana. Outro indicativo é que o desvio padrão é muito maior que a média. Ainda, o IQR também está bem superior a mediana. \n",
    "\n",
    "Para ajudar a descobrir se os tons de cinza estão mais próximo de 0 (imagem escura) ou de 255 (imagem clara), podemos dividir o histograma em duas partes, calcular as estatísticas para cada parte separadamente e, depois, compará-las. Abaixo iremos calcular para a primeira parte. "
   ]
  },
  {
   "cell_type": "code",
   "execution_count": null,
   "id": "df14db4e-1a67-4417-8471-c11a2214ad52",
   "metadata": {},
   "outputs": [],
   "source": [
    "# cria um novo histograma com a metade do original\n",
    "histogramaParte1 = histograma[0:127]\n",
    "\n",
    "# calcula as estísticas \n",
    "estatisticas(histogramaParte1)"
   ]
  },
  {
   "cell_type": "markdown",
   "id": "6d76d449-b113-4cef-b21a-95c5de0929ae",
   "metadata": {},
   "source": [
    "Agora, iremos calcular as estatísticas para a segunda metade do histograma."
   ]
  },
  {
   "cell_type": "code",
   "execution_count": null,
   "id": "8bd5d9bb-dd3f-405f-806d-7d76924adf2b",
   "metadata": {},
   "outputs": [],
   "source": [
    "# cria um novo histograma com a metade do original\n",
    "histogramaParte2 = histograma[127:]\n",
    "\n",
    "# calcula as estísticas \n",
    "estatisticas(histogramaParte2)"
   ]
  },
  {
   "cell_type": "markdown",
   "id": "e33f5589-6f33-4572-b5b5-69bc30136ca2",
   "metadata": {},
   "source": [
    "A média da primeira metade do histograma foi de 793.724, enquanto que da segunda parte foi de 7590.674. O valor máximo da primeira parte também foi bastante inferior a da segunda parte. A mediana da primeira parte também apresentou um valor bem abaixo da segunda parte. Portanto, as estatísticas indicam que a maioria dos pixels possuem valores mais próximos de 255. Se essa análise comparativa entre as duas metades do histograma não fosse conclusiva, seria necessário dividir o histograma em mais partes. "
   ]
  },
  {
   "cell_type": "markdown",
   "id": "ccfe5d30-a33c-49a7-940e-4b97d2b5a57f",
   "metadata": {},
   "source": [
    "## Binarização da imagem\n",
    "\n",
    "O histograma da imagem que analisamos acima, contém a maioria dos valores pixels com tom de cinza acima de 150. Podemos, alterar o realce dessa imagem fazendo a binarização dela. Para isso, iremos escolher o limiar de 150. Depois, teste outros limiares. "
   ]
  },
  {
   "cell_type": "code",
   "execution_count": null,
   "id": "4c1546c1-c4e9-4cac-b88a-0392c6aff41e",
   "metadata": {},
   "outputs": [],
   "source": [
    "limiar = 170\n",
    "\n",
    "imagem2 = imagem.copy()\n",
    "\n",
    "imagem2[ imagem<=limiar ] = 255\n",
    "imagem2[ imagem>limiar ] = 0\n",
    "\n",
    "plt.imshow(imagem2, 'gray', vmax=255,vmin=0)\n",
    "plt.title('Imagem binarizada')\n",
    "plt.show()"
   ]
  },
  {
   "cell_type": "markdown",
   "id": "9bf56e06-d28a-455e-9487-ae8c28d02b93",
   "metadata": {},
   "source": [
    "## Histograma de uma imagem colorida\n",
    "\n",
    "Para analisar o histograma de uma imagem colorida, é necessário analisar cada canal da imagem separadamente. Por exemplo, se a imagem estiver no formato RGB, é necessário analisar o histograma da cor vermelha, verde e azul separadamente. \n",
    "\n",
    "Abaixo, iremos carregar uma imagem em RGB e mostrar na tela.\n"
   ]
  },
  {
   "cell_type": "code",
   "execution_count": null,
   "id": "6b896240-dd61-459e-bb10-b3558ab12100",
   "metadata": {},
   "outputs": [],
   "source": [
    "url = 'https://encrypted-tbn0.gstatic.com/images?q=tbn:ANd9GcRKYCQj776Yo8cDiHetjF1VpbH4vkTUb_MypxgyfiSqQpte7ijx'\n",
    "\n",
    "urllib.request.urlretrieve(url, pathFolder + \"imgColorida.jpg\")  \n",
    "\n",
    "# abre a imagem em tons de cinza\n",
    "imagem = cv2.imread(\"figs/imgColorida.jpg\")\n",
    "\n",
    "# quando abrimos uma imagem com imread a as cores vem em BGR. Abaixo vamos mudar para RGB\n",
    "imagem = cv2.cvtColor(imagem, cv2.COLOR_BGR2RGB) \n",
    "\n",
    "# plota a imagem\n",
    "plt.imshow(imagem)\n",
    "plt.show()"
   ]
  },
  {
   "cell_type": "markdown",
   "id": "211994cf-5820-4c6c-8bf9-4c26ff95cf63",
   "metadata": {},
   "source": [
    "Iremos calcular o histograma de cada canal da imagem (vermelho, verde e azul) e plotá-los."
   ]
  },
  {
   "cell_type": "code",
   "execution_count": null,
   "id": "3e718afa-047f-4e2b-abd6-4e0f7b225b57",
   "metadata": {},
   "outputs": [],
   "source": [
    "# calcula o histogama para cada uma os canais da imagem \n",
    "histRed = cv2.calcHist([imagem], [0], None, [256], [0,256])\n",
    "histGreen = cv2.calcHist([imagem], [1], None, [256], [0,256])\n",
    "histBlue = cv2.calcHist([imagem], [2], None, [256], [0,256])\n",
    "\n",
    "# plota o histograma\n",
    "plt.plot(histRed, color = \"r\", label='Vermelho')\n",
    "plt.plot(histGreen, color = \"g\", label='Verde')\n",
    "plt.plot(histBlue, color = \"b\", label='Azul')\n",
    "\n",
    "# insere um título no gráfico\n",
    "plt.title('Histograma das três cores da imagem')\n",
    "\n",
    "# mostra as legendas \n",
    "plt.legend()\n",
    "\n",
    "# mostra o gráfico\n",
    "plt.show()"
   ]
  },
  {
   "cell_type": "markdown",
   "id": "4245e765-cbf2-493c-a79f-a3f0b1ff28d7",
   "metadata": {},
   "source": [
    "## Equalização\n",
    "\n",
    "A principal técnica para melhorar o histograma da imagem é a equalização. Vamos aplicar essa técnica no histograma da imagem em tons de cinza que usamos anteriormente."
   ]
  },
  {
   "cell_type": "code",
   "execution_count": null,
   "id": "f21f5aa9-34d1-49d0-aa61-03b347b31e17",
   "metadata": {},
   "outputs": [],
   "source": [
    "# abre a imagem em tons de cinza\n",
    "imagemCinza = cv2.imread(\"figs/lowContrast.jpg\", 0)\n",
    "\n",
    "# calcula o histograma \n",
    "histograma = cv2.calcHist([imagemCinza], [0], None, [256], [0,256])\n",
    "\n",
    "# faz a equalização da imagem\n",
    "imagemEqualizada = cv2.equalizeHist(imagemCinza)\n",
    "\n",
    "# calcula o histograma da imagem equalizada\n",
    "histEqualizado = cv2.calcHist([imagemEqualizada], [0], None, [256], [0,256])\n",
    "\n",
    "\n",
    "plt.imshow(imagemCinza, \"gray\", vmax=255, vmin=0)\n",
    "plt.title('Imagem original')\n",
    "plt.show()\n",
    "\n",
    "plt.imshow(imagemEqualizada, \"gray\", vmax=255, vmin=0)\n",
    "plt.title('Imagem Equalizada')\n",
    "plt.show()\n",
    "\n",
    "plt.plot(histograma)\n",
    "plt.title('Histograma original')\n",
    "plt.show()\n",
    "\n",
    "plt.plot(histEqualizado)\n",
    "plt.title('Histograma da imagem equalizada')\n",
    "plt.show()"
   ]
  },
  {
   "cell_type": "markdown",
   "id": "b2f05512-e13c-423b-b4f3-daef838ea0a5",
   "metadata": {},
   "source": [
    "## Equalização de imagens coloridas\n",
    "\n",
    "Uma forma de aplicar a equalização em uma imagem colorida, é separar cada canal de cor, aplicar a equalização em cada canal separadamente e, depois, formar uma nova imagem juntando todos os canais de cores equalizados. Porém, essa técnica não é a mais adequada pois ela pode criar um desequílibro nos canais de cor da imagem. \n",
    "\n",
    "O forma mais apropriada é primeiro converter a imagem para um formato onde o brilho da imagem é separado das cores, como por exemplo os formatos YUV ou HSV. Depois, aplicar a equalização apenas no canal que guarda o brilho da imagem. \n",
    "\n",
    "Apesar disso, vamos começar pela primeira forma, apenas para aprendizado. No código abaixo iremos abrir uma imagem."
   ]
  },
  {
   "cell_type": "code",
   "execution_count": null,
   "id": "1e98a4da-25b6-4056-9055-75eab0ac22be",
   "metadata": {},
   "outputs": [],
   "source": [
    "# abre a imagem em tons de cinza\n",
    "imagem = cv2.imread(\"figs/img8.jpg\")\n",
    "\n",
    "# converte RGB para cinza\n",
    "imagemColorida = cv2.cvtColor(imagem, cv2.COLOR_BGR2RGB)\n",
    "\n",
    "# configura o tamanho da imagem que será plotada\n",
    "plt.figure(figsize=(8, 6), dpi=300)\n",
    "\n",
    "# plota a imagem\n",
    "plt.imshow(imagemColorida)\n",
    "plt.title('Imagem original')\n",
    "plt.show()"
   ]
  },
  {
   "cell_type": "markdown",
   "id": "46e8da2b-411b-4e95-a6cb-01a3f84b931e",
   "metadata": {},
   "source": [
    "Iremos separar os canais de cores, calcular o histograma de cada um deles e plotar. "
   ]
  },
  {
   "cell_type": "code",
   "execution_count": null,
   "id": "6c36c673-7aa3-4d4a-b2bc-17d9577e776a",
   "metadata": {},
   "outputs": [],
   "source": [
    "red, green, blue = cv2.split(imagemColorida)\n",
    "\n",
    "histRed =  cv2.calcHist([red], [0], None, [256], [0,256])\n",
    "histGreen =  cv2.calcHist([green], [0], None, [256], [0,256])\n",
    "histBlue =  cv2.calcHist([blue], [0], None, [256], [0,256])\n",
    "\n",
    "# plota o histograma\n",
    "plt.plot(histRed, color='red')\n",
    "plt.plot(histGreen, color='green')\n",
    "plt.plot(histBlue, color='blue')\n",
    "plt.title('Histograma de cada canal de cor')\n",
    "plt.show()"
   ]
  },
  {
   "cell_type": "markdown",
   "id": "b0eeca80-269e-4af5-885f-dc8cb533d2e9",
   "metadata": {},
   "source": [
    "No código abaixo: \n",
    "- é aplicada a equalização em cada canal de cor; \n",
    "- são calculados os novos histogramas;\n",
    "- é gerada uma nova imagem juntanto os canais equalizados;\n",
    "- são plotadas a imagem e os histogramas"
   ]
  },
  {
   "cell_type": "code",
   "execution_count": null,
   "id": "b18da12e-e8c8-4199-8fd3-6bd7fc023448",
   "metadata": {},
   "outputs": [],
   "source": [
    "# aplica a equalização em cada canl de cor separadamente\n",
    "redEqualizado = cv2.equalizeHist(red)\n",
    "greenEqualizado = cv2.equalizeHist(green)\n",
    "blueEqualizado = cv2.equalizeHist(blue)\n",
    "\n",
    "# calcula o histograma de cada canal após terem sido equalizados\n",
    "histRed =  cv2.calcHist([redEqualizado], [0], None, [256], [0,256])\n",
    "histGreen =  cv2.calcHist([greenEqualizado], [0], None, [256], [0,256])\n",
    "histBlue =  cv2.calcHist([blueEqualizado], [0], None, [256], [0,256])\n",
    "\n",
    "# gera uma nova imagem juntando os canais equalizados\n",
    "imgNova = cv2.merge([redEqualizado,greenEqualizado,blueEqualizado])\n",
    "\n",
    "# plota a imagem\n",
    "plt.figure(figsize=(8, 6), dpi=300)\n",
    "plt.imshow(imgNova)\n",
    "plt.title('Imagem equalizada')\n",
    "plt.show()\n",
    "\n",
    "# plota o histograma\n",
    "plt.plot(histRed, color='red')\n",
    "plt.plot(histGreen, color='green')\n",
    "plt.plot(histBlue, color='blue')\n",
    "plt.title('Histograma de cada canal de cor após a equalização')\n",
    "plt.show()"
   ]
  },
  {
   "cell_type": "markdown",
   "id": "f1b3f3b0-d93e-48f9-b9a7-38c4123bfc22",
   "metadata": {},
   "source": [
    "Agora, iremos aplicar a equalização da maneira mais adequada. Primeiro iremos converter a imagem para o formato YUV. Nesse formato de cor, o canal Y guarda o brilho da imagem. Por isso, iremos aplicar o histograma apenas nesse canal.\n"
   ]
  },
  {
   "cell_type": "code",
   "execution_count": null,
   "id": "5b8a439b-af24-4e79-a7d3-d99650358d89",
   "metadata": {},
   "outputs": [],
   "source": [
    "# converte RGB para YUV\n",
    "imagemColoridaYUV = cv2.cvtColor(imagemColorida, cv2.COLOR_RGB2YUV)\n",
    "\n",
    "# separa os canais \n",
    "Y, U, V = cv2.split(imagemColoridaYUV)"
   ]
  },
  {
   "cell_type": "markdown",
   "id": "088b7bc0-145f-4346-8c1b-346c333c4bfc",
   "metadata": {},
   "source": [
    "No código abaixo: \n",
    "- é aplicada a equalização no canal Y; \n",
    "- são calculado os histogramas do canal Y original e após a equalização;\n",
    "- é gerada uma nova imagem juntanto o canal Y equalizado com os canais U e V originais;\n",
    "- são plotadas a imagem e os histogramas"
   ]
  },
  {
   "cell_type": "code",
   "execution_count": null,
   "id": "5fea5554-657f-4f24-a615-8c0c457c2d5e",
   "metadata": {},
   "outputs": [],
   "source": [
    "# aplica equalização no canal de Y\n",
    "YEqualizado = cv2.equalizeHist(Y)\n",
    "\n",
    "# junta o canal Y equalizado com os canais U e V para formar a nova imagem\n",
    "imgNovaYUV = cv2.merge([YEqualizado, U, V])\n",
    "\n",
    "# converte o formato YUV para RGB\n",
    "imgNovaRGB = cv2.cvtColor(imgNovaYUV, cv2.COLOR_YUV2RGB)\n",
    "\n",
    "# calcula o histograma do canal Y original\n",
    "histY =  cv2.calcHist([Y], [0], None, [256], [0,256])\n",
    "\n",
    "# calcula o histograma do canal Y equalizado\n",
    "histYEqualizado =  cv2.calcHist([YEqualizado], [0], None, [256], [0,256])\n",
    "\n",
    "# plota o histograma\n",
    "plt.plot(histYEqualizado, label=\"Y equalizado\")\n",
    "plt.plot(histY, label=\"Y\")\n",
    "plt.title('Histograma')\n",
    "plt.legend()\n",
    "plt.show()\n",
    "\n",
    "# plota a imagem\n",
    "plt.figure(figsize=(8, 6), dpi=300)\n",
    "plt.imshow(imgNovaRGB)\n",
    "plt.title('Imagem equalizada')\n",
    "plt.show()\n"
   ]
  },
  {
   "cell_type": "code",
   "execution_count": null,
   "id": "cfdda07e-a1ac-40e2-9686-e97e58daaa93",
   "metadata": {},
   "outputs": [],
   "source": []
  }
 ],
 "metadata": {
  "kernelspec": {
   "display_name": "Python 3 (ipykernel)",
   "language": "python",
   "name": "python3"
  },
  "language_info": {
   "codemirror_mode": {
    "name": "ipython",
    "version": 3
   },
   "file_extension": ".py",
   "mimetype": "text/x-python",
   "name": "python",
   "nbconvert_exporter": "python",
   "pygments_lexer": "ipython3",
   "version": "3.9.13"
  }
 },
 "nbformat": 4,
 "nbformat_minor": 5
}
