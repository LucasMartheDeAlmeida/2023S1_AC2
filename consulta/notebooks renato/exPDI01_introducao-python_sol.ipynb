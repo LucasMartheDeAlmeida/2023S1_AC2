{
 "cells": [
  {
   "cell_type": "markdown",
   "metadata": {},
   "source": [
    "# <center>Centro Universitário Facens<br/></center>\n",
    "<br/>\n",
    "<font size=\"4\"><center><b>Disciplina: Processamento de Imagens</b></center></font>\n",
    "  \n",
    "<font size=\"3\"><center>Prof. Renato Moraes Silva</center></font>\n",
    "<br/>"
   ]
  },
  {
   "cell_type": "markdown",
   "metadata": {},
   "source": [
    "# <center>Exercício - Introdução ao Python</center>\n",
    "\n",
    "Neste exercício, são apresentados alguns recursos básicos do Python que geralmente são necessários nos projetos de Processamento de Imagens. "
   ]
  },
  {
   "cell_type": "markdown",
   "metadata": {},
   "source": [
    "# Numpy - vetores e matrizes\n",
    "\n",
    "A biblioteca `numpy` do python permite a criação, manipulações e operações matemáticas de vetores e matrizes.\n",
    "\n",
    "Primeiro, você deve importar a biblioteca, antes de usar suas funções."
   ]
  },
  {
   "cell_type": "code",
   "execution_count": null,
   "metadata": {
    "scrolled": true
   },
   "outputs": [],
   "source": [
    "# -*- coding: utf-8 -*-\n",
    "\n",
    "import numpy as np # importa a biblioteca usada para trabalhar com vetores e matrizes."
   ]
  },
  {
   "cell_type": "markdown",
   "metadata": {},
   "source": [
    "## Criando vetores e matrizes\n",
    "\n",
    "Criando um vetor com os seguintes valores $[1,2,3,4,5]$."
   ]
  },
  {
   "cell_type": "code",
   "execution_count": null,
   "metadata": {},
   "outputs": [
    {
     "name": "stdout",
     "output_type": "stream",
     "text": [
      "[1 2 3 4 5]\n"
     ]
    },
    {
     "data": {
      "text/plain": [
       "array([1, 2, 3, 4, 5])"
      ]
     },
     "metadata": {},
     "output_type": "display_data"
    }
   ],
   "source": [
    "# criando um vetor\n",
    "vet = np.array( [1,2,3,4,5] )\n",
    "\n",
    "# você pode imprimir usando a função print ou a função display\n",
    "print(vet)\n",
    "display(vet)"
   ]
  },
  {
   "cell_type": "markdown",
   "metadata": {},
   "source": [
    "Podemos criar um vetor de elementos sequenciais usando a função `arange` do `numpy`. Por exemplo, vamos criar um vetor com valores de 0 até 7."
   ]
  },
  {
   "cell_type": "code",
   "execution_count": null,
   "metadata": {},
   "outputs": [
    {
     "data": {
      "text/plain": [
       "array([0, 1, 2, 3, 4, 5, 6, 7])"
      ]
     },
     "metadata": {},
     "output_type": "display_data"
    }
   ],
   "source": [
    "vet_seq1 = np.arange(8)\n",
    "\n",
    "display(vet_seq1)"
   ]
  },
  {
   "cell_type": "markdown",
   "metadata": {},
   "source": [
    "Agora, vamos criar um vetor de elementos sequenciais de 5 até 10."
   ]
  },
  {
   "cell_type": "code",
   "execution_count": null,
   "metadata": {},
   "outputs": [
    {
     "data": {
      "text/plain": [
       "array([ 5,  6,  7,  8,  9, 10])"
      ]
     },
     "metadata": {},
     "output_type": "display_data"
    }
   ],
   "source": [
    "vet_seq1 = np.arange(5,11)\n",
    "\n",
    "display(vet_seq1)"
   ]
  },
  {
   "cell_type": "markdown",
   "metadata": {},
   "source": [
    "Nós podemos também criar um vetor sequencial variando de 2 em 2 ou com outros intervalos."
   ]
  },
  {
   "cell_type": "code",
   "execution_count": null,
   "metadata": {},
   "outputs": [
    {
     "name": "stdout",
     "output_type": "stream",
     "text": [
      "Sequência de 5 até 20, variando de 2 em 2: [ 5  7  9 11 13 15 17 19]\n",
      "Sequência de 5 até 20, variando de 5 em 5: [ 5 10 15]\n",
      "Sequência de 5 até 20, variando de 4 em 4: [ 5  9 13 17]\n"
     ]
    }
   ],
   "source": [
    "vet_seq1 = np.arange(5,20,2)\n",
    "print('Sequência de 5 até 20, variando de 2 em 2:', vet_seq1)\n",
    "\n",
    "vet_seq1 = np.arange(5,20,5)\n",
    "print('Sequência de 5 até 20, variando de 5 em 5:', vet_seq1)\n",
    "\n",
    "vet_seq1 = np.arange(5,20,4)\n",
    "print('Sequência de 5 até 20, variando de 4 em 4:', vet_seq1)"
   ]
  },
  {
   "cell_type": "markdown",
   "metadata": {},
   "source": [
    "Vetores sequenciais podem ser usados em laços de repetição. Por exemplo, vamos imprimir todos os valores entre 2 e 10 usando um laço de repetição `for`."
   ]
  },
  {
   "cell_type": "code",
   "execution_count": null,
   "metadata": {},
   "outputs": [
    {
     "name": "stdout",
     "output_type": "stream",
     "text": [
      "2\n",
      "3\n",
      "4\n",
      "5\n",
      "6\n",
      "7\n",
      "8\n",
      "9\n",
      "10\n"
     ]
    }
   ],
   "source": [
    "for i in np.arange(2,11):\n",
    "    print('%d' %i)"
   ]
  },
  {
   "cell_type": "markdown",
   "metadata": {},
   "source": [
    "Nós também podemos criar um vetor com $n$-zeros ou $n$-uns."
   ]
  },
  {
   "cell_type": "code",
   "execution_count": null,
   "metadata": {},
   "outputs": [
    {
     "name": "stdout",
     "output_type": "stream",
     "text": [
      "Vetor de zeros:  [0. 0. 0. 0. 0. 0. 0. 0. 0. 0.]\n",
      "\n",
      "Vetor de uns:  [1. 1. 1. 1. 1. 1. 1. 1. 1. 1.]\n"
     ]
    }
   ],
   "source": [
    "# cria um vetor com 10-zeros\n",
    "vet_zeros = np.zeros(10)\n",
    "\n",
    "# cria um vetor com 10-uns\n",
    "vet_ones = np.ones(10)\n",
    "\n",
    "print('Vetor de zeros: ', vet_zeros)\n",
    "print('\\nVetor de uns: ', vet_ones)"
   ]
  },
  {
   "cell_type": "markdown",
   "metadata": {},
   "source": [
    "Criando uma matriz com os valores: $\n",
    "  \\begin{bmatrix}\n",
    "    1 & 2 & 3 & 4 & 5 \\\\\n",
    "    6 & 7 & 8 & 9 & 10\n",
    "  \\end{bmatrix}$"
   ]
  },
  {
   "cell_type": "code",
   "execution_count": null,
   "metadata": {},
   "outputs": [
    {
     "data": {
      "text/plain": [
       "array([[ 1,  2,  3,  4,  5],\n",
       "       [ 6,  7,  8,  9, 10]])"
      ]
     },
     "metadata": {},
     "output_type": "display_data"
    }
   ],
   "source": [
    "# cria uma matriz\n",
    "A = np.array( [[1,2,3,4,5],[6,7,8,9,10]] )\n",
    "\n",
    "display(A)"
   ]
  },
  {
   "cell_type": "markdown",
   "metadata": {},
   "source": [
    "Uma matriz é também uma imagem. Portanto, pode plotar a imagem gerada pela matriz acima. Para isso, você pode usar a função *imshow* da biblioteca biblioteca ```matplotlib.pyplot```. \n",
    "\n",
    "Quando queremos que a imagem seja plotada em tons de cinza, é necessário passar o argumento 'gray' para o método *imshow*, além de informar o maior (*vmax*) e o menor (*vmin*) valor da escala de cinza. Por exemplo, considerando que a imagem tenha 16 tons de cinza, *vmax* deve ser setado com 15, enquanto *vmin* com 0. Se nenhum valor for passado, o método considera o maior e o menor tom de cinza automaticamente, com base nos pixels da imagem de entrada. \n",
    "\n",
    "Obs.: converta a imagem para o tipo ```uint8``` usando a função ```astype```."
   ]
  },
  {
   "cell_type": "code",
   "execution_count": null,
   "metadata": {},
   "outputs": [
    {
     "data": {
      "image/png": "[encoded data removed]",
      "text/plain": [
       "<Figure size 640x480 with 1 Axes>"
      ]
     },
     "metadata": {},
     "output_type": "display_data"
    }
   ],
   "source": [
    "import matplotlib.pyplot as plt\n",
    "\n",
    "# converte para uint8\n",
    "A = A.astype(np.uint8)\n",
    "\n",
    "# plota a imagem A. Use o parâmetro 'gray'\n",
    "# para que a imagem seja mostrada em tons de cinza\n",
    "plt.imshow(A, 'gray', vmin=0, vmax=255)\n",
    "plt.show() # mostra a imagem"
   ]
  },
  {
   "cell_type": "markdown",
   "metadata": {},
   "source": [
    "Caso você queira gerar uma imagem colorida, você deve criar uma matriz onde o valor de cada linha e coluna é um vetor de três dimensões cujos valores podem variar entre 0 e 255. \n",
    "\n",
    "Obs.: Defina a imagem com o tipo ```uint8```."
   ]
  },
  {
   "cell_type": "code",
   "execution_count": 10,
   "metadata": {},
   "outputs": [
    {
     "data": {
      "image/png": "[encoded data removed]",
      "text/plain": [
       "<Figure size 640x480 with 1 Axes>"
      ]
     },
     "metadata": {},
     "output_type": "display_data"
    }
   ],
   "source": [
    "# cria uma matriz\n",
    "B = np.array( [\n",
    "              [[0,0,255  ],[0,255,255],[255,0,0]],\n",
    "              [[255,0,255],[100,200,0],[0,255,0]]\n",
    "              ], dtype=np.uint8)\n",
    "\n",
    "# plota a imagem A\n",
    "plt.imshow(B)\n",
    "plt.show() # mostra a imagem"
   ]
  },
  {
   "cell_type": "markdown",
   "metadata": {},
   "source": [
    "Nós também podemos criar uma matriz de valores zero e uma matriz de valores um:"
   ]
  },
  {
   "cell_type": "code",
   "execution_count": 11,
   "metadata": {},
   "outputs": [
    {
     "name": "stdout",
     "output_type": "stream",
     "text": [
      "Vetor de zeros: \n"
     ]
    },
    {
     "data": {
      "text/plain": [
       "array([[0., 0., 0., 0., 0., 0., 0., 0., 0., 0.],\n",
       "       [0., 0., 0., 0., 0., 0., 0., 0., 0., 0.]])"
      ]
     },
     "metadata": {},
     "output_type": "display_data"
    },
    {
     "name": "stdout",
     "output_type": "stream",
     "text": [
      "\n",
      "Vetor de valores um: \n"
     ]
    },
    {
     "data": {
      "text/plain": [
       "array([[1., 1., 1., 1., 1., 1., 1., 1., 1., 1.],\n",
       "       [1., 1., 1., 1., 1., 1., 1., 1., 1., 1.]])"
      ]
     },
     "metadata": {},
     "output_type": "display_data"
    }
   ],
   "source": [
    "# cria um array de valores zeros com dimensão 2x10\n",
    "array_zeros = np.zeros( [2,10] )\n",
    "\n",
    "# cria um array de valores um com dimensão 2x10\n",
    "array_ones = np.ones( [2,10] )\n",
    "\n",
    "print('Vetor de zeros: ')\n",
    "display(array_zeros)\n",
    "\n",
    "print('\\nVetor de valores um: ')\n",
    "display(array_ones)"
   ]
  },
  {
   "cell_type": "markdown",
   "metadata": {},
   "source": [
    "## Selecionando elementos de vetores e matrizes\n",
    "\n",
    "Suponha que temos um vetor $[a,b,c,d,e,f,g,h,i]$. Nós podemos selecionar vários subconjuntos de elementos desse vetor, como: \n",
    "\n",
    "- três primeiros elementos\n",
    "- todos os valores após o quinto elemento\n",
    "- os três ultimos valores\n",
    "- os valores entre o quinta elemento até o penúltimo elemento\n",
    "\n",
    "**Observação**: no python, o índice começa a contar em 0."
   ]
  },
  {
   "cell_type": "code",
   "execution_count": 12,
   "metadata": {},
   "outputs": [
    {
     "name": "stdout",
     "output_type": "stream",
     "text": [
      "Três primeiros elementos de vetA: \n",
      "['a' 'b' 'c']\n",
      "\n",
      "todos os valores após o Quinto elementos de vetA: \n",
      "['f' 'g' 'h' 'i']\n",
      "\n",
      "Os três ultimos valores de vetA: \n",
      "['g' 'h' 'i']\n",
      "\n",
      "Os valores de vetA entre o 5 elemento até o penúltimo elemento: \n",
      "['e' 'f' 'g'] ou ['e' 'f' 'g']\n"
     ]
    }
   ],
   "source": [
    "# criando um vetor\n",
    "vetA = np.array(['a','b','c','d','e','f','g','h','i'])\n",
    "\n",
    "print('Três primeiros elementos de vetA: ')\n",
    "print( vetA[0:3] )\n",
    "\n",
    "print('\\ntodos os valores após o Quinto elementos de vetA: ')\n",
    "print( vetA[5:] )\n",
    "\n",
    "print('\\nOs três ultimos valores de vetA: ')\n",
    "print( vetA[-3:] )\n",
    "\n",
    "print('\\nOs valores de vetA entre o 5 elemento até o penúltimo elemento: ')\n",
    "print( vetA[4:-2], 'ou', vetA[4:7] )"
   ]
  },
  {
   "cell_type": "markdown",
   "metadata": {},
   "source": [
    "Suponha que temos um array: $\\begin{bmatrix}\n",
    "    1a & 1b & 1c & 1d & 1e & 1f & 1g & 1h & 1i \\\\\n",
    "    2a & 2b & 2c & 2d & 2e & 2f & 2g & 2h & 2i \\\\\n",
    "    3a & 3b & 3c & 3d & 3e & 3f & 3g & 3h & 3i \\\\\n",
    "    4a & 4b & 4c & 4d & 4e & 4f & 4g & 4h & 4i \\\\\n",
    "  \\end{bmatrix}$.\n",
    "\n",
    "Nós podemos selecionar vários subconjuntos de elementos dessa matriz, como:\n",
    "- todos os elementos da coluna 3\n",
    "- todos os elementos da linha 2\n",
    "- todos os elementos das duas primeiras colunas\n",
    "- todos os elementos das duas primeiras linhas\n",
    "- apenas os elementos das 2 primeiras linhas e das 2 primeiras colunas\n",
    "- apenas os elementos das 2 últimas linhas e das 4 últimas colunas\n",
    "- apenas os elementos das linhas 2 até 4 e das colunas 4 até 6"
   ]
  },
  {
   "cell_type": "code",
   "execution_count": 13,
   "metadata": {},
   "outputs": [
    {
     "name": "stdout",
     "output_type": "stream",
     "text": [
      "Matriz inteira: \n",
      "[['1a' '1b' '1c' '1d' '1e' '1f' '1g' '1h' '1i']\n",
      " ['2a' '2b' '2c' '2d' '2e' '2f' '2g' '2h' '2i']\n",
      " ['3a' '3b' '3c' '3d' '3e' '3f' '3g' '3h' '3i']\n",
      " ['4a' '4b' '4c' '4d' '4e' '4f' '4g' '4h' '4i']]\n",
      "\n",
      "Todos os elementos da coluna 3: \n",
      "['1c' '2c' '3c' '4c']\n",
      "\n",
      "Todos os elementos da linha 2: \n",
      "[['2a' '2b' '2c' '2d' '2e' '2f' '2g' '2h' '2i']\n",
      " ['3a' '3b' '3c' '3d' '3e' '3f' '3g' '3h' '3i']\n",
      " ['4a' '4b' '4c' '4d' '4e' '4f' '4g' '4h' '4i']]\n",
      "\n",
      "Todos os elementos das 2 primeiras colunas: \n",
      "[['1a' '1b']\n",
      " ['2a' '2b']\n",
      " ['3a' '3b']\n",
      " ['4a' '4b']]\n",
      "\n",
      "Todos os elementos das 2 primeiras linhas: \n",
      "[['1a' '1b' '1c' '1d' '1e' '1f' '1g' '1h' '1i']\n",
      " ['2a' '2b' '2c' '2d' '2e' '2f' '2g' '2h' '2i']]\n",
      "\n",
      "Apenas os elementos das 2 primeiras linhas e das 2 primeiras colunas: \n",
      "[['1a' '1b']\n",
      " ['2a' '2b']]\n",
      "\n",
      "Apenas os elementos das 2 últimas linhas e das 4 últimas colunas: \n",
      "[['3f' '3g' '3h' '3i']\n",
      " ['4f' '4g' '4h' '4i']]\n",
      "\n",
      "Apenas os elementos das linhas 2 até 4 e das colunas 4 até 6: \n",
      "[['2d' '2e' '2f']\n",
      " ['3d' '3e' '3f']]\n"
     ]
    }
   ],
   "source": [
    "# criando uma matriz\n",
    "arrayA = np.array( [['1a','1b','1c','1d','1e','1f','1g','1h','1i'],\n",
    "                    ['2a','2b','2c','2d','2e','2f','2g','2h','2i'],\n",
    "                    ['3a','3b','3c','3d','3e','3f','3g','3h','3i'],\n",
    "                    ['4a','4b','4c','4d','4e','4f','4g', '4h','4i']])\n",
    "\n",
    "print('Matriz inteira: ')\n",
    "print( arrayA )\n",
    "\n",
    "print('\\nTodos os elementos da coluna 3: ')\n",
    "print( arrayA[:,2] )\n",
    "\n",
    "print('\\nTodos os elementos da linha 2: ')\n",
    "print( arrayA[1:,:] )\n",
    "\n",
    "print('\\nTodos os elementos das 2 primeiras colunas: ')\n",
    "print( arrayA[:,0:2] )\n",
    "\n",
    "print('\\nTodos os elementos das 2 primeiras linhas: ')\n",
    "print( arrayA[0:2,:] )\n",
    "\n",
    "print('\\nApenas os elementos das 2 primeiras linhas e das 2 primeiras colunas: ')\n",
    "print( arrayA[0:2,0:2] )\n",
    "\n",
    "print('\\nApenas os elementos das 2 últimas linhas e das 4 últimas colunas: ')\n",
    "print( arrayA[-2:,-4:] )\n",
    "\n",
    "print('\\nApenas os elementos das linhas 2 até 4 e das colunas 4 até 6: ')\n",
    "print( arrayA[1:3,3:6] )"
   ]
  },
  {
   "cell_type": "markdown",
   "metadata": {},
   "source": [
    "Nós podemos combinar as operações mostradas acima para gerar imagens. Por exemplo, no exemplo abaixo, iremos criar uma imagem toda azul."
   ]
  },
  {
   "cell_type": "code",
   "execution_count": 14,
   "metadata": {},
   "outputs": [
    {
     "data": {
      "image/png": "[encoded data removed]",
      "text/plain": [
       "<Figure size 640x480 with 1 Axes>"
      ]
     },
     "metadata": {},
     "output_type": "display_data"
    }
   ],
   "source": [
    "# cria uma matriz de 2x2x3 com \n",
    "# todos os valores 0\n",
    "img1 = np.zeros([2,2,3], dtype=np.uint8)\n",
    "\n",
    "# agora iremos colocar o valor 255 no terceiro \n",
    "# canal de cor (índice 2) de cada linha e coluna\n",
    "img1[ :,:,2 ] = 255\n",
    "\n",
    "# plota a imagem.\n",
    "plt.imshow(img1)\n",
    "plt.show() # mostra a imagem"
   ]
  },
  {
   "cell_type": "markdown",
   "metadata": {},
   "source": [
    "Agora, iremos misturar a cor azul da imagem com uma nova cor: a verde. Para isso, iremos adicionar a cor verde no segundo canal de cor de cada pixel da primeira coluna da imagem."
   ]
  },
  {
   "cell_type": "code",
   "execution_count": 15,
   "metadata": {},
   "outputs": [
    {
     "data": {
      "image/png": "[encoded data removed]",
      "text/plain": [
       "<Figure size 640x480 with 1 Axes>"
      ]
     },
     "metadata": {},
     "output_type": "display_data"
    }
   ],
   "source": [
    "# iremos colocar o valor 255 no segundo\n",
    "# canal de cor (índice 1) de primeira coluna da imagem\n",
    "img1[ :,0,1 ] = 255\n",
    "\n",
    "# plota a imagem\n",
    "plt.imshow(img1)\n",
    "plt.show() # mostra a imagem"
   ]
  },
  {
   "cell_type": "markdown",
   "metadata": {},
   "source": [
    "Iremos pintar a última linha com a cor vermelha."
   ]
  },
  {
   "cell_type": "code",
   "execution_count": 16,
   "metadata": {},
   "outputs": [
    {
     "data": {
      "image/png": "[encoded data removed]",
      "text/plain": [
       "<Figure size 640x480 with 1 Axes>"
      ]
     },
     "metadata": {},
     "output_type": "display_data"
    }
   ],
   "source": [
    "# iremos colocar a cor vermelha na última linha\n",
    "img1[ -1,:,: ] = [255,0,0]\n",
    "\n",
    "# plota a imagem\n",
    "plt.imshow(img1)\n",
    "plt.show() # mostra a imagem"
   ]
  },
  {
   "cell_type": "markdown",
   "metadata": {},
   "source": [
    "## Operações básicas com vetores e matrizes\n",
    "\n",
    "Soma e subtração entre vetores."
   ]
  },
  {
   "cell_type": "code",
   "execution_count": 17,
   "metadata": {},
   "outputs": [
    {
     "name": "stdout",
     "output_type": "stream",
     "text": [
      "A: [1 2 3]\n",
      "B: [4 5 6]\n",
      "\n",
      "A+B:  [5 7 9]\n",
      "A-B:  [-3 -3 -3]\n"
     ]
    }
   ],
   "source": [
    "A = np.array( [1,2,3] )\n",
    "B = np.array( [4,5,6] )\n",
    "print('A:', A);\n",
    "print('B:', B);\n",
    "\n",
    "print('\\nA+B: ', A+B )\n",
    "print('A-B: ', A-B )"
   ]
  },
  {
   "cell_type": "markdown",
   "metadata": {},
   "source": [
    "Soma e subtração entre matrizes."
   ]
  },
  {
   "cell_type": "code",
   "execution_count": 18,
   "metadata": {},
   "outputs": [
    {
     "name": "stdout",
     "output_type": "stream",
     "text": [
      "X1: \n",
      " [[1 2 3]\n",
      " [4 5 6]]\n",
      "\n",
      "X2: \n",
      " [[4 5 6]\n",
      " [7 8 9]]\n",
      "\n",
      "X1+X2:\n"
     ]
    },
    {
     "data": {
      "text/plain": [
       "array([[ 5,  7,  9],\n",
       "       [11, 13, 15]])"
      ]
     },
     "metadata": {},
     "output_type": "display_data"
    },
    {
     "name": "stdout",
     "output_type": "stream",
     "text": [
      "\n",
      "X1-X2:\n"
     ]
    },
    {
     "data": {
      "text/plain": [
       "array([[-3, -3, -3],\n",
       "       [-3, -3, -3]])"
      ]
     },
     "metadata": {},
     "output_type": "display_data"
    }
   ],
   "source": [
    "X1 = np.array( [[1,2,3],\n",
    "                [4,5,6]] )\n",
    "\n",
    "X2 = np.array( [[4,5,6],\n",
    "                [7,8,9]])\n",
    "\n",
    "print('X1: \\n', X1);\n",
    "print('\\nX2: \\n', X2);\n",
    "\n",
    "print('\\nX1+X2:')\n",
    "display(X1+X2)\n",
    "\n",
    "print('\\nX1-X2:')\n",
    "display(X1-X2)"
   ]
  },
  {
   "cell_type": "markdown",
   "metadata": {},
   "source": [
    "Produto entre duas matrizes.\n",
    "\n",
    "Obs.: para isso ser possível, a quantidade de colunas da primeira, deve ser igual a quantidade de linhas da segunda"
   ]
  },
  {
   "cell_type": "code",
   "execution_count": 19,
   "metadata": {},
   "outputs": [
    {
     "name": "stdout",
     "output_type": "stream",
     "text": [
      "A: \n"
     ]
    },
    {
     "data": {
      "text/plain": [
       "array([[1, 2],\n",
       "       [3, 4],\n",
       "       [5, 6]])"
      ]
     },
     "metadata": {},
     "output_type": "display_data"
    },
    {
     "name": "stdout",
     "output_type": "stream",
     "text": [
      "B: \n"
     ]
    },
    {
     "data": {
      "text/plain": [
       "array([[1, 2, 3, 4],\n",
       "       [5, 6, 7, 8]])"
      ]
     },
     "metadata": {},
     "output_type": "display_data"
    },
    {
     "name": "stdout",
     "output_type": "stream",
     "text": [
      "A*B: \n"
     ]
    },
    {
     "data": {
      "text/plain": [
       "array([[11, 14, 17, 20],\n",
       "       [23, 30, 37, 44],\n",
       "       [35, 46, 57, 68]])"
      ]
     },
     "metadata": {},
     "output_type": "display_data"
    }
   ],
   "source": [
    "A = np.array( ([[1,2],[3,4],[5,6]]) )\n",
    "B = np.array( ([[1,2,3,4],[5,6,7,8]]) )\n",
    "\n",
    "print('A: ')\n",
    "display(A)\n",
    "\n",
    "print('B: ')\n",
    "display(B)\n",
    "\n",
    "print('A*B: ')\n",
    "display(np.dot(A,B)) "
   ]
  },
  {
   "cell_type": "markdown",
   "metadata": {},
   "source": [
    "Se eu quiser fazer a multiplicação matricial da matriz A por ela mesma, não é possível pois a quantidade de linhas dela é diferente da quantidade de colunas. \n",
    "\n",
    "Porém, eu consigo resolver esse problema, multiplicando A pela sua transposta. "
   ]
  },
  {
   "cell_type": "code",
   "execution_count": null,
   "metadata": {},
   "outputs": [],
   "source": [
    "# faz a transposta de A\n",
    "Atransp = A.T\n",
    "\n",
    "# multiplica A por A.T\n",
    "prod = np.dot(A,Atransp)\n",
    "\n",
    "print(prod)"
   ]
  },
  {
   "cell_type": "markdown",
   "metadata": {},
   "source": [
    "Média dos valores de uma matriz."
   ]
  },
  {
   "cell_type": "code",
   "execution_count": 20,
   "metadata": {},
   "outputs": [
    {
     "name": "stdout",
     "output_type": "stream",
     "text": [
      "B: \n"
     ]
    },
    {
     "data": {
      "text/plain": [
       "array([[1, 2, 3, 4],\n",
       "       [5, 6, 7, 8]])"
      ]
     },
     "metadata": {},
     "output_type": "display_data"
    },
    {
     "name": "stdout",
     "output_type": "stream",
     "text": [
      "\n",
      "Média das linhas de B: \n"
     ]
    },
    {
     "data": {
      "text/plain": [
       "array([2.5, 6.5])"
      ]
     },
     "metadata": {},
     "output_type": "display_data"
    },
    {
     "name": "stdout",
     "output_type": "stream",
     "text": [
      "\n",
      "Média das colunas de B: \n"
     ]
    },
    {
     "data": {
      "text/plain": [
       "array([3., 4., 5., 6.])"
      ]
     },
     "metadata": {},
     "output_type": "display_data"
    },
    {
     "name": "stdout",
     "output_type": "stream",
     "text": [
      "\n",
      "Média de todos os valores de B: \n"
     ]
    },
    {
     "data": {
      "text/plain": [
       "4.5"
      ]
     },
     "metadata": {},
     "output_type": "display_data"
    }
   ],
   "source": [
    "print('B: ')\n",
    "display(B)\n",
    "\n",
    "# média das linhas de B\n",
    "media1 = np.mean(B, axis = 1)\n",
    "print('\\nMédia das linhas de B: ')\n",
    "display(media1)\n",
    "\n",
    "# média das colunas de B\n",
    "media2 = np.mean(B, axis = 0)\n",
    "print('\\nMédia das colunas de B: ')\n",
    "display(media2)\n",
    "\n",
    "# média de todos os valores de B \n",
    "media3 = np.mean(B)\n",
    "print('\\nMédia de todos os valores de B: ')\n",
    "display(media3)"
   ]
  },
  {
   "cell_type": "markdown",
   "metadata": {},
   "source": [
    "Desvio padrão dos valores de uma matriz."
   ]
  },
  {
   "cell_type": "code",
   "execution_count": 21,
   "metadata": {},
   "outputs": [
    {
     "name": "stdout",
     "output_type": "stream",
     "text": [
      "B: \n"
     ]
    },
    {
     "data": {
      "text/plain": [
       "array([[1, 2, 3, 4],\n",
       "       [5, 6, 7, 8]])"
      ]
     },
     "metadata": {},
     "output_type": "display_data"
    },
    {
     "name": "stdout",
     "output_type": "stream",
     "text": [
      "\n",
      "Desvio padrão das linhas de B: \n"
     ]
    },
    {
     "data": {
      "text/plain": [
       "array([1.29099445, 1.29099445])"
      ]
     },
     "metadata": {},
     "output_type": "display_data"
    },
    {
     "name": "stdout",
     "output_type": "stream",
     "text": [
      "\n",
      "Desvio padrão das colunas de B: \n"
     ]
    },
    {
     "data": {
      "text/plain": [
       "array([2.82842712, 2.82842712, 2.82842712, 2.82842712])"
      ]
     },
     "metadata": {},
     "output_type": "display_data"
    },
    {
     "name": "stdout",
     "output_type": "stream",
     "text": [
      "\n",
      "Desvio padrão de todos os valores de B: \n"
     ]
    },
    {
     "data": {
      "text/plain": [
       "2.449489742783178"
      ]
     },
     "metadata": {},
     "output_type": "display_data"
    }
   ],
   "source": [
    "print('B: ')\n",
    "display(B)\n",
    "\n",
    "# desvio padrão das linhas de B\n",
    "std1 = np.std(B, axis = 1, ddof=1)\n",
    "print('\\nDesvio padrão das linhas de B: ')\n",
    "display(std1)\n",
    "\n",
    "# desvio padrão das colunas de B\n",
    "std2 = np.std(B, axis = 0, ddof=1)\n",
    "print('\\nDesvio padrão das colunas de B: ')\n",
    "display(std2)\n",
    "\n",
    "# desvio padrão de todos os valores de B \n",
    "std3 = np.std(B, ddof=1)\n",
    "print('\\nDesvio padrão de todos os valores de B: ')\n",
    "display(std3)"
   ]
  },
  {
   "cell_type": "markdown",
   "metadata": {},
   "source": [
    "Mediana dos valores de uma matriz"
   ]
  },
  {
   "cell_type": "code",
   "execution_count": 22,
   "metadata": {},
   "outputs": [
    {
     "name": "stdout",
     "output_type": "stream",
     "text": [
      "A: \n"
     ]
    },
    {
     "data": {
      "text/plain": [
       "array([[1, 2],\n",
       "       [3, 4],\n",
       "       [5, 6]])"
      ]
     },
     "metadata": {},
     "output_type": "display_data"
    },
    {
     "name": "stdout",
     "output_type": "stream",
     "text": [
      "\n",
      "Mediana das linhas de A: \n"
     ]
    },
    {
     "data": {
      "text/plain": [
       "array([1.5, 3.5, 5.5])"
      ]
     },
     "metadata": {},
     "output_type": "display_data"
    },
    {
     "name": "stdout",
     "output_type": "stream",
     "text": [
      "\n",
      "Mediana das colunas de A: \n"
     ]
    },
    {
     "data": {
      "text/plain": [
       "array([3., 4.])"
      ]
     },
     "metadata": {},
     "output_type": "display_data"
    },
    {
     "name": "stdout",
     "output_type": "stream",
     "text": [
      "\n",
      "Mediana de todos os valores de A: \n"
     ]
    },
    {
     "data": {
      "text/plain": [
       "3.5"
      ]
     },
     "metadata": {},
     "output_type": "display_data"
    }
   ],
   "source": [
    "print('A: ')\n",
    "display(A)\n",
    "\n",
    "# média das linhas de B\n",
    "mediana1 = np.median(A, axis = 1)\n",
    "print('\\nMediana das linhas de A: ')\n",
    "display(mediana1)\n",
    "\n",
    "# média das colunas de B\n",
    "mediana2 = np.median(A, axis = 0)\n",
    "print('\\nMediana das colunas de A: ')\n",
    "display(mediana2)\n",
    "\n",
    "# média de todos os valores de B \n",
    "mediana3 = np.median(A)\n",
    "print('\\nMediana de todos os valores de A: ')\n",
    "display(mediana3)"
   ]
  },
  {
   "cell_type": "markdown",
   "metadata": {},
   "source": [
    "Outras funções para vetores e matrizes.\n",
    "* `np.min()` &rarr; valor mínimo\n",
    "* `np.max()` &rarr; valor máximo\n",
    "* `np.sort(A)` &rarr; retorna o vetor $A$ ordenado\n",
    "* `np.argsort(A)` &rarr; retorna os índices do vetor $A$ ordenado\n",
    "* `np.var()` &rarr; variância\n",
    "* `np.shape()` &rarr; dimensões da matriz\n",
    "* `np.transpose()` &rarr; transposta da matriz\n",
    "* `np.concatenate(arrays, axis=numero_do_eixo)` &rarr; concatena vetores ou matrizes\n",
    "* `vstack(A,B)` &rarr; empilha verticalmente\n",
    "* `hstack(A,B)` &rarr; empilha horizontalmente\n",
    "* `np.where(A>n)` &rarr; elementos em $A$ maiores que $n$"
   ]
  },
  {
   "cell_type": "markdown",
   "metadata": {},
   "source": [
    "## Exercícios\n",
    "\n",
    "**Ex. 1**. Crie duas matrizes com os nomes $ExA$ e $ExB$ preenchidas com os seguintes valores:\n",
    "\n",
    "$ExA = \\begin{bmatrix}\n",
    "    12 & 9 & 4 & 1 \\\\\n",
    "    11 & 5 & 8 & 1 \\\\\n",
    "    1 & 2 & 3 & 1 \\\\\n",
    "  \\end{bmatrix}\n",
    "$, \n",
    "$\n",
    "ExB = \\begin{bmatrix}\n",
    "    1 & 5 \\\\\n",
    "    1 & 7 \\\\\n",
    "    1 & 9 \\\\\n",
    "    1 & 1 \\\\\n",
    "  \\end{bmatrix}\n",
    "$. Após isso, imprima as duas matrizes."
   ]
  },
  {
   "cell_type": "code",
   "execution_count": 23,
   "metadata": {},
   "outputs": [
    {
     "name": "stdout",
     "output_type": "stream",
     "text": [
      "ExA:\n"
     ]
    },
    {
     "data": {
      "text/plain": [
       "array([[12,  9,  4,  1],\n",
       "       [11,  5,  8,  1],\n",
       "       [ 1,  2,  3,  1]])"
      ]
     },
     "metadata": {},
     "output_type": "display_data"
    },
    {
     "name": "stdout",
     "output_type": "stream",
     "text": [
      "ExB:\n"
     ]
    },
    {
     "data": {
      "text/plain": [
       "array([[1, 5],\n",
       "       [1, 7],\n",
       "       [2, 9],\n",
       "       [1, 1]])"
      ]
     },
     "metadata": {},
     "output_type": "display_data"
    }
   ],
   "source": [
    "################# ESCREVA SEU CÓDIGO AQUI  ###############################\n",
    "\n",
    "ExA = np.array( [[12,9,4,1],[11,5,8,1],[1,2,3,1]] )\n",
    "\n",
    "ExB = np.array( [[1,5],[1,7],[2,9],[1,1]] )\n",
    "\n",
    "print('ExA:')\n",
    "display(ExA)\n",
    "\n",
    "print('ExB:')\n",
    "display(ExB)\n",
    "\n",
    "##########################################################################"
   ]
  },
  {
   "cell_type": "markdown",
   "metadata": {},
   "source": [
    "**Ex. 2**. Crie uma matriz $ExC$ usando a seguinte operação: $ExC = ExA \\cdot ExB$. Depois, imprima $ExC$. "
   ]
  },
  {
   "cell_type": "code",
   "execution_count": 24,
   "metadata": {},
   "outputs": [
    {
     "name": "stdout",
     "output_type": "stream",
     "text": [
      "ExC:\n"
     ]
    },
    {
     "data": {
      "text/plain": [
       "array([[ 30, 160],\n",
       "       [ 33, 163],\n",
       "       [ 10,  47]])"
      ]
     },
     "metadata": {},
     "output_type": "display_data"
    }
   ],
   "source": [
    "################# ESCREVA SEU CÓDIGO AQUI  ###############################\n",
    "\n",
    "ExC = np.dot(ExA,ExB)\n",
    "\n",
    "print('ExC:')\n",
    "display(ExC)\n",
    "\n",
    "##########################################################################"
   ]
  },
  {
   "cell_type": "markdown",
   "metadata": {},
   "source": [
    "**Ex. 3**. Crie uma função que retorne a média e o desvio padrão das linhas de uma matriz e a média e desvio padrão das colunas de uma matriz. Depois teste sua função com a matriz $ExC$."
   ]
  },
  {
   "cell_type": "code",
   "execution_count": 25,
   "metadata": {},
   "outputs": [
    {
     "name": "stdout",
     "output_type": "stream",
     "text": [
      "Medias linhas:  [95.  98.  28.5]\n",
      "Medias colunas:  [ 24.33333333 123.33333333]\n",
      "Desvio padrão linhas:  [91.92388155 91.92388155 26.1629509 ]\n",
      "Desvio padrão colunas:  [12.50333289 66.1236216 ]\n"
     ]
    }
   ],
   "source": [
    "################# ESCREVA SEU CÓDIGO AQUI  ###############################\n",
    "\n",
    "def myFunction(A):\n",
    "    \n",
    "    media_colunas = np.mean(A, axis=0)  \n",
    "    media_linhas = np.mean(A, axis=1)\n",
    "\n",
    "    std_colunas = np.std(A, axis=0, ddof=1)  \n",
    "    std_linhas = np.std(A, axis=1, ddof=1)\n",
    "    \n",
    "    return media_linhas, media_colunas, std_linhas, std_colunas\n",
    "\n",
    "media_linhas, media_colunas, std_linhas, std_colunas = myFunction(ExC)\n",
    "\n",
    "print('Medias linhas: ', media_linhas)\n",
    "print('Medias colunas: ', media_colunas)\n",
    "\n",
    "print('Desvio padrão linhas: ', std_linhas)\n",
    "print('Desvio padrão colunas: ', std_colunas)\n",
    "\n",
    "\n",
    "##########################################################################"
   ]
  },
  {
   "cell_type": "markdown",
   "metadata": {},
   "source": [
    "**Ex. 4**. Crie uma matriz $ExD$ com os valores das duas últimas colunas de $ExA$. Depois, calcule a média dos valores de $ExD$."
   ]
  },
  {
   "cell_type": "code",
   "execution_count": 26,
   "metadata": {
    "scrolled": true
   },
   "outputs": [
    {
     "name": "stdout",
     "output_type": "stream",
     "text": [
      "[[4 1]\n",
      " [8 1]\n",
      " [3 1]]\n",
      "3.0\n"
     ]
    }
   ],
   "source": [
    "################# ESCREVA SEU CÓDIGO AQUI  ###############################\n",
    "\n",
    "ExD = ExA[:,-2:]\n",
    "\n",
    "print(ExD)\n",
    "print(np.mean(ExD))\n",
    "\n",
    "##########################################################################"
   ]
  },
  {
   "cell_type": "markdown",
   "metadata": {},
   "source": [
    "**Ex. 5**. Crie uma matriz $ExE$ com os valores das linhas 1 e 2 e das colunas 1 e 2 de $ExA$."
   ]
  },
  {
   "cell_type": "code",
   "execution_count": 27,
   "metadata": {
    "scrolled": true
   },
   "outputs": [
    {
     "name": "stdout",
     "output_type": "stream",
     "text": [
      "[[5 8]\n",
      " [2 3]]\n"
     ]
    }
   ],
   "source": [
    "################# ESCREVA SEU CÓDIGO AQUI  ###############################\n",
    "\n",
    "ExE = ExA[1:3,1:3]\n",
    "print(ExE)\n",
    "\n",
    "##########################################################################"
   ]
  },
  {
   "cell_type": "markdown",
   "metadata": {},
   "source": [
    "**Ex. 6**. Crie e imprima uma matriz $ExF$ com 5 linhas e 2 colunas e todos os valores iguais a 0."
   ]
  },
  {
   "cell_type": "code",
   "execution_count": 28,
   "metadata": {},
   "outputs": [
    {
     "name": "stdout",
     "output_type": "stream",
     "text": [
      "[[0. 0.]\n",
      " [0. 0.]\n",
      " [0. 0.]\n",
      " [0. 0.]\n",
      " [0. 0.]]\n"
     ]
    }
   ],
   "source": [
    "################# ESCREVA SEU CÓDIGO AQUI  ###############################\n",
    "\n",
    "ExF = np.zeros([5,2])\n",
    "print(ExF)\n",
    "\n",
    "##########################################################################"
   ]
  },
  {
   "cell_type": "markdown",
   "metadata": {},
   "source": [
    "**Ex. 7**. Crie e imprima uma matriz $ExG$ com 4 linhas e 3 colunas e todos os valores iguais a 1."
   ]
  },
  {
   "cell_type": "code",
   "execution_count": 29,
   "metadata": {},
   "outputs": [
    {
     "name": "stdout",
     "output_type": "stream",
     "text": [
      "[[1. 1. 1.]\n",
      " [1. 1. 1.]\n",
      " [1. 1. 1.]\n",
      " [1. 1. 1.]]\n"
     ]
    }
   ],
   "source": [
    "################# ESCREVA SEU CÓDIGO AQUI  ###############################\n",
    "\n",
    "ExG = np.ones([4,3])\n",
    "print(ExG)\n",
    "\n",
    "##########################################################################"
   ]
  },
  {
   "cell_type": "markdown",
   "metadata": {},
   "source": [
    "**Ex. 8**. Crie uma função que retorne o fatorial de um número. Teste a função que você criou, calculando o fatorial de 8. \n",
    "\n",
    "Fórmula do fatorial: $n! = (1 * 2 * 3 * ... * (n-2) * (n-1) * n)$\n",
    "\n",
    "Obs: é obrigatório usar um laço `for`. \n",
    "\n",
    "Exemplos: \n",
    "* $1! = 1$\n",
    "* $2! = 1*2$\n",
    "* $3! = 1*2*3$\n",
    "* $4! = 1*2*3*4$\n",
    "* $5! = 1*2*3*4*5$"
   ]
  },
  {
   "cell_type": "code",
   "execution_count": 30,
   "metadata": {},
   "outputs": [
    {
     "name": "stdout",
     "output_type": "stream",
     "text": [
      "40320\n"
     ]
    }
   ],
   "source": [
    "################# ESCREVA SEU CÓDIGO AQUI  ###############################\n",
    "\n",
    "def fatorial(n):\n",
    "\n",
    "    fat = 1\n",
    "    for i in np.arange(1,n+1):\n",
    "        fat = fat*i\n",
    "        \n",
    "    return fat\n",
    "\n",
    "fat = fatorial(8)\n",
    "print(fat)\n",
    "\n",
    "##########################################################################"
   ]
  },
  {
   "cell_type": "markdown",
   "metadata": {},
   "source": [
    "**Ex. 9.** Crie um retângulo na cor verde. Depois, desenhe a letra **E** maiúscula nesse retângulo com a cor vermelha."
   ]
  },
  {
   "cell_type": "code",
   "execution_count": 31,
   "metadata": {},
   "outputs": [
    {
     "data": {
      "image/png": "[encoded data removed]",
      "text/plain": [
       "<Figure size 640x480 with 1 Axes>"
      ]
     },
     "metadata": {},
     "output_type": "display_data"
    }
   ],
   "source": [
    "################# ESCREVA SEU CÓDIGO AQUI  ###############################\n",
    "\n",
    "# cria uma retângulo de 10X20 \n",
    "retangulo = np.ones([10,8,3], dtype=np.uint8)\n",
    "\n",
    "# pinta de verde\n",
    "retangulo[:,:,:] = [0,255,0]\n",
    "\n",
    "# cria o traço vertical do E\n",
    "retangulo[1:-1,1:3,:] = [255,0,0]\n",
    "\n",
    "# cria o primeiro traço horizontal do E\n",
    "retangulo[1:3,3:7,:] = [255,0,0]\n",
    "\n",
    "# cria o segundo traço horizontal do E\n",
    "retangulo[4:6,3:7,:] = [255,0,0]\n",
    "\n",
    "# cria o terceiro traço horizontal do E\n",
    "retangulo[7:9,3:7,:] = [255,0,0]\n",
    "\n",
    "# plota a imagem\n",
    "plt.imshow(retangulo)\n",
    "plt.show() # mostra a imagem\n",
    "\n",
    "\n",
    "\n",
    "\n",
    "\n",
    "\n",
    "##########################################################################"
   ]
  },
  {
   "cell_type": "code",
   "execution_count": null,
   "metadata": {},
   "outputs": [],
   "source": []
  }
 ],
 "metadata": {
  "kernelspec": {
   "display_name": "Python 3 (ipykernel)",
   "language": "python",
   "name": "python3"
  },
  "language_info": {
   "codemirror_mode": {
    "name": "ipython",
    "version": 3
   },
   "file_extension": ".py",
   "mimetype": "text/x-python",
   "name": "python",
   "nbconvert_exporter": "python",
   "pygments_lexer": "ipython3",
   "version": "3.9.13"
  },
  "vscode": {
   "interpreter": {
    "hash": "d8d3ff3e2b5334ad4397068f2512301b7247a0268b8f631cb00f1cdcbb1f6f82"
   }
  }
 },
 "nbformat": 4,
 "nbformat_minor": 4
}
